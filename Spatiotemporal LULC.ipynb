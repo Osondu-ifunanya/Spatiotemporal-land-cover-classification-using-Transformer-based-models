{
 "cells": [
  {
   "cell_type": "code",
   "execution_count": null,
   "id": "f7ed89f2-6e13-43a7-bd40-2c2809253dda",
   "metadata": {},
   "outputs": [],
   "source": []
  }
 ],
 "metadata": {
  "kernelspec": {
   "display_name": "",
   "name": ""
  },
  "language_info": {
   "name": ""
  }
 },
 "nbformat": 4,
 "nbformat_minor": 5
}
